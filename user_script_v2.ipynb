{
 "cells": [
  {
   "cell_type": "code",
   "execution_count": 1,
   "metadata": {},
   "outputs": [],
   "source": [
    "import chisquare_v4 as cs\n",
    "import matplotlib.pyplot as plt\n",
    "import numpy as np\n",
    "import graphics as gs\n",
    "import importlib"
   ]
  },
  {
   "cell_type": "code",
   "execution_count": 2,
   "metadata": {
    "scrolled": false
   },
   "outputs": [
    {
     "name": "stdout",
     "output_type": "stream",
     "text": [
      "{'Z': 0, 'Age': 1, 'ebv': 2, 'uJava': 3, 'F378': 4, 'F395': 5, 'F410': 6, 'F430': 7, 'gSDSS': 8, 'F515': 9, 'rSDSS': 10, 'F660': 11, 'iSDSS': 12, 'F861': 13, 'zSDSS': 14}\n",
      "['0001', '0002', '0005', '0010', '0015', '0020', '0030', '0050', '0080', '0100', '0152', '0200', '0300', '0400', '0500']\n"
     ]
    }
   ],
   "source": [
    "print (cs.dicmod)\n",
    "    \n",
    "print (cs.array_Z)\n",
    "\n",
    "#reload(cs)"
   ]
  },
  {
   "cell_type": "code",
   "execution_count": 3,
   "metadata": {},
   "outputs": [
    {
     "name": "stdout",
     "output_type": "stream",
     "text": [
      "34\n",
      "34\n",
      "0.0001 3980000.0 0.0\n",
      "[[1.6327e+01 1.6722e+01 1.6588e+01 1.5169e+01 1.4941e+01 1.2222e+01\n",
      "  1.4114e+01 1.1572e+01 1.3973e+01 1.1538e+01 1.3144e+01 1.1973e+01]\n",
      " [2.4000e-02 2.9000e-02 2.7000e-02 1.4000e-02 1.3000e-02 4.0000e-03\n",
      "  8.0000e-03 3.0000e-03 7.0000e-03 2.0000e-03 5.0000e-03 3.0000e-03]\n",
      " [1.9840e+00 1.9990e+00 1.9210e+00 1.9280e+00 1.9870e+00 2.0920e+00\n",
      "  2.2100e+00 2.4680e+00 2.5790e+00 2.7420e+00 2.8860e+00 2.9890e+00]]\n"
     ]
    }
   ],
   "source": [
    "#clusters=np.loadtxt('clusters.txt',usecols=[1,2,3,4,5,6,7,8,9,10,11,12,13,14,15,16,17,18,19,20,21,22,23,24,25,26,27])\n",
    "photometry_strings=np.loadtxt('results/photometry-cat.txt',usecols=[0,1],dtype=str)\n",
    "photometry=np.loadtxt('results/photometry-cat.txt',usecols=[5,6,7,8,9,10,11,12,13,14,15,16,17,18,19,20,21,22,23,24,25,26,27,28])\n",
    "\n",
    "print(len(photometry))\n",
    "\n",
    "cluster=np.zeros((len(photometry_strings),27))\n",
    "print(len(cluster))\n",
    "cluster[:,3:27]=photometry\n",
    "l=0\n",
    "param = np.loadtxt('results/parameter-cat.txt',usecols=[5,3,7])\n",
    "Z = param[l,0]\n",
    "age = param[l,1]\n",
    "ebv = param[l,2]\n",
    "\n",
    "array_obs = np.array(photometry[l,0:12])\n",
    "#print(array_obs)\n",
    "array_err = np.array(photometry[l,12:24])\n",
    "#print(array_err)\n",
    "table = cs.load_table('tables/mag1.dat') \n",
    "Z_aprox_L = np.argmin(abs(table[:,0]-Z))\n",
    "Z_aprox = table[Z_aprox_L,0]\n",
    "    \n",
    "age_aprox_L = np.argmin(abs(table[:,1]-age))\n",
    "age_aprox = table[age_aprox_L,1]\n",
    "\n",
    "ebv_aprox_L = np.argmin(abs(table[:,2]-ebv))\n",
    "ebv_aprox = table[ebv_aprox_L,2]\n",
    "\n",
    "print(Z_aprox, age_aprox, ebv_aprox)   \n",
    "for i in range(len(table)):\n",
    "       if(table[i,0]==Z_aprox):\n",
    "            if(table[i,1]==age_aprox):\n",
    "                if(table[i,2]==ebv_aprox):\n",
    "                    age_L = i\n",
    "                    #print(age_L)\n",
    "                    \n",
    "array_mod = table[age_L,3:]\n",
    "\n",
    "obs = np.array([array_obs, array_err, array_mod])\n",
    "print (obs)"
   ]
  },
  {
   "cell_type": "code",
   "execution_count": 4,
   "metadata": {
    "scrolled": false
   },
   "outputs": [
    {
     "data": {
      "image/png": "[encoded data removed]",
      "text/plain": [
       "<Figure size 432x288 with 1 Axes>"
      ]
     },
     "metadata": {
      "needs_background": "light"
     },
     "output_type": "display_data"
    }
   ],
   "source": [
    "x=range(1,13)\n",
    "\n",
    "plt.errorbar(x,obs[0],yerr=obs[1],color='black', ecolor='red', \n",
    "             elinewidth=3, capsize=0, label= 'data')\n",
    "plt.title('band x magnitude')\n",
    "plt.xlabel('band', fontsize = 13)\n",
    "plt.ylabel('magnitude', fontsize = 13)\n",
    "plt.plot(x,obs[2],label='model')\n",
    "plt.legend()\n",
    "plt.show()"
   ]
  },
  {
   "cell_type": "code",
   "execution_count": 5,
   "metadata": {},
   "outputs": [],
   "source": [
    "bands1=(['uJava','uJava','uJava','uJava','F378','F378', 'F430', 'gSDSS', 'F660', 'F861', 'uJava'])\n",
    "band_ref1=(['F660','rSDSS','iSDSS','zSDSS','F515','gSDSS', 'gSDSS', 'zSDSS', 'gSDSS', 'uJava', 'F515'])\n",
    "bands2=(['iSDSS','rSDSS','uJava','F378','F410','F430', 'F515', 'F660', 'F660', 'gSDSS', 'iSDSS'])\n",
    "band_ref2=(['zSDSS','zSDSS','zSDSS','zSDSS','zSDSS','iSDSS', 'zSDSS', 'F861', 'iSDSS', 'zSDSS', 'F861'])"
   ]
  },
  {
   "cell_type": "code",
   "execution_count": 32,
   "metadata": {
    "scrolled": false
   },
   "outputs": [
    {
     "name": "stdout",
     "output_type": "stream",
     "text": [
      "Before: (-1.19,10.02,0.0804)\n",
      "After: (0.3363094375090441,9.14921911265538,0.0)\n"
     ]
    }
   ],
   "source": [
    "importlib.reload(cs)\n",
    "nomes=photometry_strings[:,0]\n",
    "print (\"Before: (\"+str(Z)+','+str(age)+','+str(ebv)+')')\n",
    "chi_ebv, chi_Z,chi_age=cs.full_fit(cs.load_table('tables/mag1.dat'),\n",
    "           cluster, l,\n",
    "           (['uJava','uJava','uJava','uJava','F378','F378', 'F430', 'gSDSS', 'F660', 'F861', 'uJava']),\n",
    "           (['F660','rSDSS','iSDSS','zSDSS','F515','gSDSS', 'gSDSS', 'zSDSS', 'gSDSS', 'uJava', 'F515']),\n",
    "           #cs.load_table('best5_100age.dat')[-5,0:11],\n",
    "           np.ones(11),\n",
    "           (['iSDSS','rSDSS','uJava','F378','F410','F430', 'F515', 'F660', 'F660', 'gSDSS', 'iSDSS']),\n",
    "           (['zSDSS','zSDSS','zSDSS','zSDSS','zSDSS','iSDSS', 'zSDSS', 'F861', 'iSDSS', 'zSDSS', 'F861']),\n",
    "           np.ones(11),\n",
    "           #cs.load_table('best5_100Z_test6.dat')[-5,0:11])1:29\n",
    "           (['F660','gSDSS','rSDSS','F378','F378','F410', 'F410', 'F660', 'F410', 'F378', 'iSDSS']),\n",
    "           (['iSDSS','F861','F861','F395','gSDSS','F430', 'F515', 'F861', 'gSDSS', 'F660', 'F861']),\n",
    "           np.ones(11))\n",
    "           #cs.load_table('best5_100Z_test6.dat')[-5,0:11])tables\n",
    "np.set_printoptions(precision=2)\n",
    "chi_Z=np.log10((chi_Z[0]/(1-chi_Z[0]-(0.2485+(1.78*chi_Z[0]))))/(0.0207)),np.log10(chi_Z[1]),chi_Z[2]\n",
    "\n",
    "print (\"After: (\"+str(chi_Z[0])+','+str(chi_Z[1])+','+str(chi_Z[2])+')')\n"
   ]
  },
  {
   "cell_type": "code",
   "execution_count": 33,
   "metadata": {
    "scrolled": true
   },
   "outputs": [
    {
     "ename": "NameError",
     "evalue": "name 'chi_after' is not defined",
     "output_type": "error",
     "traceback": [
      "\u001b[0;31m---------------------------------------------------------------------------\u001b[0m",
      "\u001b[0;31mNameError\u001b[0m                                 Traceback (most recent call last)",
      "\u001b[0;32m<ipython-input-33-3775ac08245e>\u001b[0m in \u001b[0;36m<module>\u001b[0;34m\u001b[0m\n\u001b[0;32m----> 1\u001b[0;31m \u001b[0mchi_after\u001b[0m\u001b[0;34m,\u001b[0m \u001b[0mchi_before\u001b[0m\u001b[0;34m\u001b[0m\u001b[0;34m\u001b[0m\u001b[0m\n\u001b[0m",
      "\u001b[0;31mNameError\u001b[0m: name 'chi_after' is not defined"
     ]
    }
   ],
   "source": [
    "chi_after, chi_before"
   ]
  },
  {
   "cell_type": "code",
   "execution_count": 34,
   "metadata": {
    "scrolled": false
   },
   "outputs": [
    {
     "ename": "NameError",
     "evalue": "name 'chi_before' is not defined",
     "output_type": "error",
     "traceback": [
      "\u001b[0;31m---------------------------------------------------------------------------\u001b[0m",
      "\u001b[0;31mNameError\u001b[0m                                 Traceback (most recent call last)",
      "\u001b[0;32m<ipython-input-34-8e075af0e9ee>\u001b[0m in \u001b[0;36m<module>\u001b[0;34m\u001b[0m\n\u001b[1;32m      2\u001b[0m \u001b[0msigma\u001b[0m\u001b[0;34m=\u001b[0m\u001b[0;36m0\u001b[0m\u001b[0;34m\u001b[0m\u001b[0;34m\u001b[0m\u001b[0m\n\u001b[1;32m      3\u001b[0m \u001b[0;31m#print(chi[1], chi[0], ebv, sigma, dt, numbands)\u001b[0m\u001b[0;34m\u001b[0m\u001b[0;34m\u001b[0m\u001b[0;34m\u001b[0m\u001b[0m\n\u001b[0;32m----> 4\u001b[0;31m \u001b[0mfit1\u001b[0m \u001b[0;34m=\u001b[0m \u001b[0mcs\u001b[0m\u001b[0;34m.\u001b[0m\u001b[0mdata_sint\u001b[0m\u001b[0;34m(\u001b[0m\u001b[0mchi_before\u001b[0m\u001b[0;34m[\u001b[0m\u001b[0;36m1\u001b[0m\u001b[0;34m]\u001b[0m\u001b[0;34m,\u001b[0m \u001b[0mchi_before\u001b[0m\u001b[0;34m[\u001b[0m\u001b[0;36m0\u001b[0m\u001b[0;34m]\u001b[0m\u001b[0;34m,\u001b[0m \u001b[0mchi_before\u001b[0m\u001b[0;34m[\u001b[0m\u001b[0;36m2\u001b[0m\u001b[0;34m]\u001b[0m\u001b[0;34m,\u001b[0m \u001b[0msigma\u001b[0m\u001b[0;34m)\u001b[0m    \u001b[0;31m#fazer a mão, colocando as mesmas cores da idade para metalicidade\u001b[0m\u001b[0;34m\u001b[0m\u001b[0;34m\u001b[0m\u001b[0m\n\u001b[0m\u001b[1;32m      5\u001b[0m \u001b[0mfit2\u001b[0m \u001b[0;34m=\u001b[0m \u001b[0mcs\u001b[0m\u001b[0;34m.\u001b[0m\u001b[0mdata_sint\u001b[0m\u001b[0;34m(\u001b[0m\u001b[0mchi_after\u001b[0m\u001b[0;34m[\u001b[0m\u001b[0;36m1\u001b[0m\u001b[0;34m]\u001b[0m\u001b[0;34m,\u001b[0m \u001b[0mchi_after\u001b[0m\u001b[0;34m[\u001b[0m\u001b[0;36m0\u001b[0m\u001b[0;34m]\u001b[0m\u001b[0;34m,\u001b[0m \u001b[0mchi_after\u001b[0m\u001b[0;34m[\u001b[0m\u001b[0;36m2\u001b[0m\u001b[0;34m]\u001b[0m\u001b[0;34m,\u001b[0m \u001b[0msigma\u001b[0m\u001b[0;34m)\u001b[0m\u001b[0;34m\u001b[0m\u001b[0;34m\u001b[0m\u001b[0m\n\u001b[1;32m      6\u001b[0m \u001b[0;34m\u001b[0m\u001b[0m\n",
      "\u001b[0;31mNameError\u001b[0m: name 'chi_before' is not defined"
     ]
    }
   ],
   "source": [
    "importlib.reload(cs)\n",
    "sigma=0\n",
    "#print(chi[1], chi[0], ebv, sigma, dt, numbands)\n",
    "fit1 = cs.data_sint(chi_before[1], chi_before[0], chi_before[2], sigma)    #fazer a mão, colocando as mesmas cores da idade para metalicidade\n",
    "fit2 = cs.data_sint(chi_after[1], chi_after[0], chi_after[2], sigma)    \n",
    " \n",
    "x=range(1,13)\n",
    "\n",
    "#colocar os melhores modelos escolhidos nas duas etapas de fitting para ver a aproximação do modelo. \n",
    "#para isso eu teria que salvar os parametros das duas etapas\n",
    "\n",
    "plt.errorbar(x,obs[0],yerr=obs[1],color='black', ecolor='red', \n",
    "             elinewidth=3, capsize=0, label= 'data')\n",
    "plt.title('band x magnitude')\n",
    "plt.xlabel('band', fontsize = 13)\n",
    "plt.ylabel('magnitude', fontsize = 13)\n",
    "plt.plot(x,obs[2],label='model')\n",
    "plt.plot(x,fit1[2],label='fit1')\n",
    "plt.plot(x,fit2[2],label='fit2')\n",
    "plt.legend()\n",
    "plt.show()"
   ]
  },
  {
   "cell_type": "code",
   "execution_count": 35,
   "metadata": {},
   "outputs": [
    {
     "ename": "NameError",
     "evalue": "name 'fit2' is not defined",
     "output_type": "error",
     "traceback": [
      "\u001b[0;31m---------------------------------------------------------------------------\u001b[0m",
      "\u001b[0;31mNameError\u001b[0m                                 Traceback (most recent call last)",
      "\u001b[0;32m<ipython-input-35-0b1104fefbd2>\u001b[0m in \u001b[0;36m<module>\u001b[0;34m\u001b[0m\n\u001b[1;32m      1\u001b[0m \u001b[0;31m#esse plot não é mais necessário\u001b[0m\u001b[0;34m\u001b[0m\u001b[0;34m\u001b[0m\u001b[0;34m\u001b[0m\u001b[0m\n\u001b[1;32m      2\u001b[0m \u001b[0;34m\u001b[0m\u001b[0m\n\u001b[0;32m----> 3\u001b[0;31m \u001b[0mx\u001b[0m \u001b[0;34m=\u001b[0m \u001b[0mcs\u001b[0m\u001b[0;34m.\u001b[0m\u001b[0mcores\u001b[0m\u001b[0;34m(\u001b[0m\u001b[0mfit2\u001b[0m\u001b[0;34m[\u001b[0m\u001b[0;36m2\u001b[0m\u001b[0;34m]\u001b[0m\u001b[0;34m,\u001b[0m \u001b[0mnp\u001b[0m\u001b[0;34m.\u001b[0m\u001b[0mzeros\u001b[0m\u001b[0;34m(\u001b[0m\u001b[0;34m(\u001b[0m\u001b[0mlen\u001b[0m\u001b[0;34m(\u001b[0m\u001b[0mfit2\u001b[0m\u001b[0;34m[\u001b[0m\u001b[0;36m2\u001b[0m\u001b[0;34m]\u001b[0m\u001b[0;34m)\u001b[0m\u001b[0;34m)\u001b[0m\u001b[0;34m)\u001b[0m\u001b[0;34m,\u001b[0m \u001b[0mbands1\u001b[0m\u001b[0;34m,\u001b[0m \u001b[0mband_ref1\u001b[0m\u001b[0;34m)\u001b[0m \u001b[0;31m#Fit\u001b[0m\u001b[0;34m\u001b[0m\u001b[0;34m\u001b[0m\u001b[0m\n\u001b[0m\u001b[1;32m      4\u001b[0m \u001b[0my\u001b[0m \u001b[0;34m=\u001b[0m \u001b[0mcs\u001b[0m\u001b[0;34m.\u001b[0m\u001b[0mcores\u001b[0m\u001b[0;34m(\u001b[0m\u001b[0mobs\u001b[0m\u001b[0;34m[\u001b[0m\u001b[0;36m2\u001b[0m\u001b[0;34m]\u001b[0m\u001b[0;34m,\u001b[0m \u001b[0mnp\u001b[0m\u001b[0;34m.\u001b[0m\u001b[0mzeros\u001b[0m\u001b[0;34m(\u001b[0m\u001b[0;34m(\u001b[0m\u001b[0mlen\u001b[0m\u001b[0;34m(\u001b[0m\u001b[0mobs\u001b[0m\u001b[0;34m[\u001b[0m\u001b[0;36m2\u001b[0m\u001b[0;34m]\u001b[0m\u001b[0;34m)\u001b[0m\u001b[0;34m)\u001b[0m\u001b[0;34m)\u001b[0m\u001b[0;34m,\u001b[0m \u001b[0mbands1\u001b[0m\u001b[0;34m,\u001b[0m \u001b[0mband_ref1\u001b[0m\u001b[0;34m)\u001b[0m \u001b[0;31m#modelo\u001b[0m\u001b[0;34m\u001b[0m\u001b[0;34m\u001b[0m\u001b[0m\n\u001b[1;32m      5\u001b[0m \u001b[0mz\u001b[0m \u001b[0;34m=\u001b[0m \u001b[0mcs\u001b[0m\u001b[0;34m.\u001b[0m\u001b[0mcores\u001b[0m\u001b[0;34m(\u001b[0m\u001b[0mobs\u001b[0m\u001b[0;34m[\u001b[0m\u001b[0;36m0\u001b[0m\u001b[0;34m]\u001b[0m\u001b[0;34m,\u001b[0m \u001b[0mobs\u001b[0m\u001b[0;34m[\u001b[0m\u001b[0;36m1\u001b[0m\u001b[0;34m]\u001b[0m\u001b[0;34m,\u001b[0m \u001b[0mbands1\u001b[0m\u001b[0;34m,\u001b[0m \u001b[0mband_ref1\u001b[0m\u001b[0;34m)\u001b[0m \u001b[0;31m#Observado\u001b[0m\u001b[0;34m\u001b[0m\u001b[0;34m\u001b[0m\u001b[0m\n",
      "\u001b[0;31mNameError\u001b[0m: name 'fit2' is not defined"
     ]
    }
   ],
   "source": [
    "#esse plot não é mais necessário\n",
    "\n",
    "x = cs.cores(fit2[2], np.zeros((len(fit2[2]))), bands1, band_ref1) #Fit\n",
    "y = cs.cores(obs[2], np.zeros((len(obs[2]))), bands1, band_ref1) #modelo\n",
    "z = cs.cores(obs[0], obs[1], bands1, band_ref1) #Observado\n",
    "a=range(1,12)\n",
    "\n",
    "plt.errorbar(a,z[0],np.sqrt(2)*z[1],color='black', ecolor='red', label= 'data')\n",
    "plt.title('color  x magnitude') \n",
    "plt.xlabel('color', fontsize = 13)\n",
    "plt.ylabel('magnitude', fontsize = 13)\n",
    "plt.plot(a,y[0],label='model')\n",
    "plt.scatter(a,x[0],label='fit')\n",
    "plt.legend()\n",
    "plt.show()"
   ]
  },
  {
   "cell_type": "code",
   "execution_count": 36,
   "metadata": {},
   "outputs": [
    {
     "ename": "NameError",
     "evalue": "name 'z' is not defined",
     "output_type": "error",
     "traceback": [
      "\u001b[0;31m---------------------------------------------------------------------------\u001b[0m",
      "\u001b[0;31mNameError\u001b[0m                                 Traceback (most recent call last)",
      "\u001b[0;32m<ipython-input-36-b61c4ac23281>\u001b[0m in \u001b[0;36m<module>\u001b[0;34m\u001b[0m\n\u001b[0;32m----> 1\u001b[0;31m \u001b[0ma\u001b[0m \u001b[0;34m=\u001b[0m \u001b[0mnp\u001b[0m\u001b[0;34m.\u001b[0m\u001b[0msum\u001b[0m\u001b[0;34m(\u001b[0m\u001b[0mnp\u001b[0m\u001b[0;34m.\u001b[0m\u001b[0msquare\u001b[0m\u001b[0;34m(\u001b[0m\u001b[0;34m(\u001b[0m\u001b[0mz\u001b[0m\u001b[0;34m[\u001b[0m\u001b[0;36m0\u001b[0m\u001b[0;34m]\u001b[0m\u001b[0;34m-\u001b[0m\u001b[0my\u001b[0m\u001b[0;34m[\u001b[0m\u001b[0;36m0\u001b[0m\u001b[0;34m]\u001b[0m\u001b[0;34m)\u001b[0m\u001b[0;34m/\u001b[0m\u001b[0mnp\u001b[0m\u001b[0;34m.\u001b[0m\u001b[0msqrt\u001b[0m\u001b[0;34m(\u001b[0m\u001b[0;36m2\u001b[0m\u001b[0;34m)\u001b[0m\u001b[0;34m*\u001b[0m\u001b[0mz\u001b[0m\u001b[0;34m[\u001b[0m\u001b[0;36m1\u001b[0m\u001b[0;34m]\u001b[0m\u001b[0;34m)\u001b[0m\u001b[0;34m)\u001b[0m\u001b[0;34m\u001b[0m\u001b[0;34m\u001b[0m\u001b[0m\n\u001b[0m\u001b[1;32m      2\u001b[0m \u001b[0mb\u001b[0m \u001b[0;34m=\u001b[0m \u001b[0mnp\u001b[0m\u001b[0;34m.\u001b[0m\u001b[0msum\u001b[0m\u001b[0;34m(\u001b[0m\u001b[0mnp\u001b[0m\u001b[0;34m.\u001b[0m\u001b[0msquare\u001b[0m\u001b[0;34m(\u001b[0m\u001b[0;34m(\u001b[0m\u001b[0mz\u001b[0m\u001b[0;34m[\u001b[0m\u001b[0;36m0\u001b[0m\u001b[0;34m]\u001b[0m\u001b[0;34m-\u001b[0m\u001b[0mx\u001b[0m\u001b[0;34m[\u001b[0m\u001b[0;36m0\u001b[0m\u001b[0;34m]\u001b[0m\u001b[0;34m)\u001b[0m\u001b[0;34m/\u001b[0m\u001b[0mnp\u001b[0m\u001b[0;34m.\u001b[0m\u001b[0msqrt\u001b[0m\u001b[0;34m(\u001b[0m\u001b[0;36m2\u001b[0m\u001b[0;34m)\u001b[0m\u001b[0;34m*\u001b[0m\u001b[0mz\u001b[0m\u001b[0;34m[\u001b[0m\u001b[0;36m1\u001b[0m\u001b[0;34m]\u001b[0m\u001b[0;34m)\u001b[0m\u001b[0;34m)\u001b[0m\u001b[0;34m\u001b[0m\u001b[0;34m\u001b[0m\u001b[0m\n",
      "\u001b[0;31mNameError\u001b[0m: name 'z' is not defined"
     ]
    }
   ],
   "source": [
    "a = np.sum(np.square((z[0]-y[0])/np.sqrt(2)*z[1]))\n",
    "b = np.sum(np.square((z[0]-x[0])/np.sqrt(2)*z[1]))"
   ]
  },
  {
   "cell_type": "code",
   "execution_count": 37,
   "metadata": {
    "scrolled": false
   },
   "outputs": [
    {
     "ename": "NameError",
     "evalue": "name 'reload' is not defined",
     "output_type": "error",
     "traceback": [
      "\u001b[0;31m---------------------------------------------------------------------------\u001b[0m",
      "\u001b[0;31mNameError\u001b[0m                                 Traceback (most recent call last)",
      "\u001b[0;32m<ipython-input-37-7c5dfba4092b>\u001b[0m in \u001b[0;36m<module>\u001b[0;34m\u001b[0m\n\u001b[0;32m----> 1\u001b[0;31m \u001b[0mreload\u001b[0m\u001b[0;34m(\u001b[0m\u001b[0mcs\u001b[0m\u001b[0;34m)\u001b[0m\u001b[0;34m\u001b[0m\u001b[0;34m\u001b[0m\u001b[0m\n\u001b[0m\u001b[1;32m      2\u001b[0m \u001b[0mcs\u001b[0m\u001b[0;34m.\u001b[0m\u001b[0mmultiplot\u001b[0m\u001b[0;34m(\u001b[0m\u001b[0mchi_after\u001b[0m\u001b[0;34m[\u001b[0m\u001b[0;36m3\u001b[0m\u001b[0;34m]\u001b[0m\u001b[0;34m)\u001b[0m\u001b[0;34m\u001b[0m\u001b[0;34m\u001b[0m\u001b[0m\n",
      "\u001b[0;31mNameError\u001b[0m: name 'reload' is not defined"
     ]
    }
   ],
   "source": [
    "reload(cs)\n",
    "cs.multiplot(chi_after[3])"
   ]
  },
  {
   "cell_type": "code",
   "execution_count": null,
   "metadata": {},
   "outputs": [],
   "source": []
  }
 ],
 "metadata": {
  "kernelspec": {
   "display_name": "Python 3",
   "language": "python",
   "name": "python3"
  },
  "language_info": {
   "codemirror_mode": {
    "name": "ipython",
    "version": 3
   },
   "file_extension": ".py",
   "mimetype": "text/x-python",
   "name": "python",
   "nbconvert_exporter": "python",
   "pygments_lexer": "ipython3",
   "version": "3.7.4"
  }
 },
 "nbformat": 4,
 "nbformat_minor": 2
}
